{
 "cells": [
  {
   "cell_type": "code",
   "execution_count": 19,
   "id": "3b08e48c-5688-458f-a6fe-f43f0ff4b2f8",
   "metadata": {},
   "outputs": [
    {
     "name": "stdout",
     "output_type": "stream",
     "text": [
      "Numarul de aparitii a bilei rosii in 10000 de simulari este: 3168\n",
      "Probabilitatea de a obtine bila rosie este: 0.3168\n"
     ]
    }
   ],
   "source": [
    "import numpy as np\n",
    "\n",
    "def eveniment():\n",
    "    # dam cu zarul\n",
    "    zar = np.random.choice([1, 2, 3, 4, 5, 6])\n",
    "\n",
    "    # asignam pentru fiecare tip de bila, numarul de elemente\n",
    "    bile_rosii = 3\n",
    "    bile_albastre = 4\n",
    "    bile_negre = 2\n",
    "    \n",
    "    if zar == 2 or zar == 3 or zar == 5:\n",
    "        bile_negre += 1\n",
    "    elif zar == 6:\n",
    "        bile_rosii += 1\n",
    "    else:\n",
    "        bile_albastre += 1\n",
    "\n",
    "    # determinam probabilitatile de aparitie a fiecarui tip de bila\n",
    "    sum = bile_rosii + bile_albastre + bile_negre \n",
    "    prob_rosie = bile_rosii / sum\n",
    "    prob_neagra = bile_negre / sum\n",
    "    prob_albastra = bile_albastre / sum\n",
    "\n",
    "    # extragem o bila in functie de probabilitatile fiecareia\n",
    "    bila = np.random.choice([\"rosie\", \"neagra\", \"albastra\"], p = [prob_rosie, prob_neagra, prob_albastra])\n",
    "    #print(\"Bila extrasa este:\", bila)\n",
    "    return bila\n",
    "\n",
    "\n",
    "counter = 0\n",
    "# generam 10000 de simulari\n",
    "for i in range(10000):\n",
    "    if eveniment() == \"rosie\":\n",
    "        counter += 1\n",
    "\n",
    "print(\"Numarul de aparitii a bilei rosii in 10000 de simulari este:\", counter)\n",
    "print(\"Probabilitatea de a obtine bila rosie este:\", counter / 10000)\n",
    "    "
   ]
  },
  {
   "cell_type": "code",
   "execution_count": null,
   "id": "6c7af300-8a42-47ab-87fb-91771361a931",
   "metadata": {},
   "outputs": [],
   "source": []
  }
 ],
 "metadata": {
  "kernelspec": {
   "display_name": "Python 3 (ipykernel)",
   "language": "python",
   "name": "python3"
  },
  "language_info": {
   "codemirror_mode": {
    "name": "ipython",
    "version": 3
   },
   "file_extension": ".py",
   "mimetype": "text/x-python",
   "name": "python",
   "nbconvert_exporter": "python",
   "pygments_lexer": "ipython3",
   "version": "3.12.5"
  }
 },
 "nbformat": 4,
 "nbformat_minor": 5
}
