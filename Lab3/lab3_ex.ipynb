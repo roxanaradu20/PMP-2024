{
 "cells": [
  {
   "cell_type": "markdown",
   "id": "9a2d099e",
   "metadata": {},
   "source": [
    "### a)"
   ]
  },
  {
   "cell_type": "code",
   "execution_count": 1,
   "id": "79927eae-0c14-4ca9-91c2-1eef2a5af3b1",
   "metadata": {},
   "outputs": [
    {
     "data": {
      "image/png": "[encoded data removed]",
      "text/plain": [
       "<Figure size 640x480 with 1 Axes>"
      ]
     },
     "metadata": {},
     "output_type": "display_data"
    }
   ],
   "source": [
    "from pgmpy.models import BayesianNetwork\n",
    "from pgmpy.factors.discrete import TabularCPD\n",
    "import networkx as nx\n",
    "\n",
    "# Definim structura\n",
    "model = BayesianNetwork([(\"S\", \"O\"), (\"S\", \"L\"), (\"S\",\"M\"), (\"L\", \"M\")])\n",
    "pos = nx.circular_layout(model)\n",
    "nx.draw(model, with_labels=True, pos=pos, alpha=0.5, node_size=2000)"
   ]
  },
  {
   "cell_type": "code",
   "execution_count": 2,
   "id": "ff413bba",
   "metadata": {},
   "outputs": [
    {
     "name": "stdout",
     "output_type": "stream",
     "text": [
      "+------+-----+\n",
      "| S(0) | 0.6 |\n",
      "+------+-----+\n",
      "| S(1) | 0.4 |\n",
      "+------+-----+\n",
      "+------+------+------+\n",
      "| S    | S(0) | S(1) |\n",
      "+------+------+------+\n",
      "| O(0) | 0.1  | 0.7  |\n",
      "+------+------+------+\n",
      "| O(1) | 0.9  | 0.3  |\n",
      "+------+------+------+\n",
      "+------+------+------+\n",
      "| S    | S(0) | S(1) |\n",
      "+------+------+------+\n",
      "| L(0) | 0.7  | 0.2  |\n",
      "+------+------+------+\n",
      "| L(1) | 0.3  | 0.8  |\n",
      "+------+------+------+\n",
      "+------+------+------+------+------+\n",
      "| S    | S(0) | S(0) | S(1) | S(1) |\n",
      "+------+------+------+------+------+\n",
      "| L    | L(0) | L(1) | L(0) | L(1) |\n",
      "+------+------+------+------+------+\n",
      "| M(0) | 0.8  | 0.4  | 0.5  | 0.1  |\n",
      "+------+------+------+------+------+\n",
      "| M(1) | 0.2  | 0.6  | 0.5  | 0.9  |\n",
      "+------+------+------+------+------+\n"
     ]
    }
   ],
   "source": [
    "CPD_S = TabularCPD(variable='S', variable_card=2, values=[[0.6], [0.4]])\n",
    "print(CPD_S)\n",
    "\n",
    "# Definirea variabilelor cu un singur parinte(O si L)\n",
    "CPD_O = TabularCPD(variable='O', variable_card=2, \n",
    "                   values=[[0.1, 0.7],  \n",
    "                           [0.9, 0.3]], \n",
    "                   evidence=['S'],\n",
    "                   evidence_card=[2])\n",
    "print(CPD_O)\n",
    "CPD_L = TabularCPD(variable='L', variable_card=2, \n",
    "                   values=[[0.7, 0.2],  \n",
    "                           [0.3, 0.8]], \n",
    "                   evidence=['S'],\n",
    "                   evidence_card=[2])\n",
    "print(CPD_L)\n",
    "\n",
    "# Definirea variabilei cu 2 parinti(M)\n",
    "CPD_M = TabularCPD(variable='M', variable_card=2,\n",
    "                   values=[[0.8, 0.4, 0.5, 0.1], \n",
    "                           [0.2, 0.6, 0.5, 0.9]],\n",
    "                   evidence=['S', 'L'],\n",
    "                   evidence_card=[2, 2])\n",
    "print(CPD_M)"
   ]
  },
  {
   "cell_type": "code",
   "execution_count": 3,
   "id": "f88f18df",
   "metadata": {},
   "outputs": [
    {
     "data": {
      "text/plain": [
       "(O ⟂ M, L | S)\n",
       "(L ⟂ O | S)\n",
       "(M ⟂ O | S, L)"
      ]
     },
     "execution_count": 3,
     "metadata": {},
     "output_type": "execute_result"
    }
   ],
   "source": [
    "# Adaugarea distributiilor conditionale la model:\n",
    "model.add_cpds(CPD_S, CPD_O, CPD_L, CPD_M)\n",
    "model.get_cpds()\n",
    "\n",
    "# Verificarea modelului:\n",
    "model.check_model()\n",
    "\n",
    "# Verificarea independentelor:\n",
    "model.local_independencies(['S', 'O', 'L', 'M'])"
   ]
  },
  {
   "cell_type": "markdown",
   "id": "888251aa",
   "metadata": {},
   "source": [
    "### b)"
   ]
  },
  {
   "cell_type": "code",
   "execution_count": 4,
   "id": "49628b76",
   "metadata": {},
   "outputs": [
    {
     "name": "stdout",
     "output_type": "stream",
     "text": [
      "+------+----------+\n",
      "| S    |   phi(S) |\n",
      "+======+==========+\n",
      "| S(0) |   0.5294 |\n",
      "+------+----------+\n",
      "| S(1) |   0.4706 |\n",
      "+------+----------+\n",
      "+------+----------+\n",
      "| S    |   phi(S) |\n",
      "+======+==========+\n",
      "| S(0) |   0.9618 |\n",
      "+------+----------+\n",
      "| S(1) |   0.0382 |\n",
      "+------+----------+\n",
      "+------+----------+\n",
      "| S    |   phi(S) |\n",
      "+======+==========+\n",
      "| S(0) |   0.8710 |\n",
      "+------+----------+\n",
      "| S(1) |   0.1290 |\n",
      "+------+----------+\n",
      "+------+----------+\n",
      "| S    |   phi(S) |\n",
      "+======+==========+\n",
      "| S(0) |   0.8630 |\n",
      "+------+----------+\n",
      "| S(1) |   0.1370 |\n",
      "+------+----------+\n",
      "+------+----------+\n",
      "| S    |   phi(S) |\n",
      "+======+==========+\n",
      "| S(0) |   0.5455 |\n",
      "+------+----------+\n",
      "| S(1) |   0.4545 |\n",
      "+------+----------+\n",
      "+------+----------+\n",
      "| S    |   phi(S) |\n",
      "+======+==========+\n",
      "| S(0) |   0.0508 |\n",
      "+------+----------+\n",
      "| S(1) |   0.9492 |\n",
      "+------+----------+\n",
      "+------+----------+\n",
      "| S    |   phi(S) |\n",
      "+======+==========+\n",
      "| S(0) |   0.2308 |\n",
      "+------+----------+\n",
      "| S(1) |   0.7692 |\n",
      "+------+----------+\n",
      "+------+----------+\n",
      "| S    |   phi(S) |\n",
      "+======+==========+\n",
      "| S(0) |   0.8710 |\n",
      "+------+----------+\n",
      "| S(1) |   0.1290 |\n",
      "+------+----------+\n"
     ]
    }
   ],
   "source": [
    "from pgmpy.inference import VariableElimination\n",
    "\n",
    "# Crearea unui obiect de inferenta\n",
    "inference = VariableElimination(model)\n",
    "\n",
    "prob_S_given_OLM1 = inference.query([\"S\"], evidence={\"O\": 1, \"L\": 1, \"M\": 1})\n",
    "print(prob_S_given_OLM1)\n",
    "\n",
    "prob_S_given_OLM2 = inference.query([\"S\"], evidence={\"O\": 1, \"L\": 0, \"M\": 0})\n",
    "print(prob_S_given_OLM2)\n",
    "\n",
    "prob_S_given_OLM3 = inference.query([\"S\"], evidence={\"O\": 1, \"L\": 1, \"M\": 0})\n",
    "print(prob_S_given_OLM3)\n",
    "\n",
    "prob_S_given_OLM4 = inference.query([\"S\"], evidence={\"O\": 1, \"L\": 0, \"M\": 1})\n",
    "print(prob_S_given_OLM4)\n",
    "\n",
    "prob_S_given_OLM5 = inference.query([\"S\"], evidence={\"O\": 0, \"L\": 0, \"M\": 0})\n",
    "print(prob_S_given_OLM5)\n",
    "\n",
    "prob_S_given_OLM6 = inference.query([\"S\"], evidence={\"O\": 0, \"L\": 1, \"M\": 1})\n",
    "print(prob_S_given_OLM6)\n",
    "\n",
    "prob_S_given_OLM7 = inference.query([\"S\"], evidence={\"O\": 0, \"L\": 0, \"M\": 1})\n",
    "print(prob_S_given_OLM7)\n",
    "\n",
    "prob_S_given_OLM8 = inference.query([\"S\"], evidence={\"O\": 1, \"L\": 1, \"M\": 0})\n",
    "print(prob_S_given_OLM8)\n"
   ]
  }
 ],
 "metadata": {
  "kernelspec": {
   "display_name": "Python 3",
   "language": "python",
   "name": "python3"
  },
  "language_info": {
   "codemirror_mode": {
    "name": "ipython",
    "version": 3
   },
   "file_extension": ".py",
   "mimetype": "text/x-python",
   "name": "python",
   "nbconvert_exporter": "python",
   "pygments_lexer": "ipython3",
   "version": "3.12.5"
  }
 },
 "nbformat": 4,
 "nbformat_minor": 5
}
