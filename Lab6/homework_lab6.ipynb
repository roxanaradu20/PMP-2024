{
 "cells": [
  {
   "cell_type": "markdown",
   "metadata": {},
   "source": [
    "#### Exercitiul 1"
   ]
  },
  {
   "cell_type": "markdown",
   "metadata": {},
   "source": [
    "Stim urmatoarele probabilitati:\n",
    "\n",
    ">$P(B) = 0.01$\n",
    "\n",
    ">$P(Test = Pozitiv|B) = 0.95$\n",
    "\n",
    ">$P(Test = Negativ|\\neg B) = 0.90$\n"
   ]
  },
  {
   "cell_type": "markdown",
   "metadata": {},
   "source": [
    "Trebuie sa determinam $P(B|Test = Pozitiv)$\n",
    "\n",
    "Putem folosi formula lui Bayes si obtinem:\n",
    "\n",
    ">$P(B|Test = Pozitiv) = \\frac{P(Test = Pozitiv|B) \\cdot P(B)}{P(Test = Pozitiv)}$\n",
    "\n",
    "Trebuie sa mai determinam doar $P(Test = Pozitiv)$."
   ]
  },
  {
   "cell_type": "markdown",
   "metadata": {},
   "source": [
    "$P(Test = Pozitiv) = P(Test = Pozitiv|B) \\cdot P(B) + P(Test = Pozitiv| \\neg B) \\cdot P(\\neg B)$\n",
    "\n",
    "Folosind complementaritatea, putem de termina:\n",
    "\n",
    "> $P(\\neg B) = 1 - P(B) = 1 - 0.01 = 0.99$\n",
    "\n",
    "> $P(Test = Pozitiv| \\neg B) = 1 - P(Test = Negativ| \\neg B) = 1 - 0.90 = 0.1$\n",
    "\n",
    "$P(Test = Pozitiv) = 0.95 \\cdot 0.01 + 0.1 \\cdot 0.99 = 0.0095 + 0.099 = 0.1085$"
   ]
  },
  {
   "cell_type": "markdown",
   "metadata": {},
   "source": [
    ">$P(B|Test = Pozitiv) = \\frac{0.95 \\cdot 0.01}{0.1085} = \\frac{0.0095}{0.1085} = 0.0875$"
   ]
  },
  {
   "cell_type": "markdown",
   "metadata": {},
   "source": [
    "Daca o persoana obtine un test pozitiv, exista 8.75% sanse ca acea persoana sa aiba boala.\n",
    "\n",
    "Acest procentaj este asa de mic, datorita rezultatelor fals pozitive. In cazul nostru, exista un numar foarte limitat de persoane care au aceasta boala, doar 1%. Din aceasta cauza, majoritatea persoanelor care vor face testul sunt sanatoase. \n",
    "\n",
    "De exemplu, sa presupunem ca testam 10000 de persoane. Dintre acestea, doar 1% sunt bolnave(adica 100 de persoane), restul 99% sunt sanatoase(adica 9900 de persoane). Pentru persoanele bolnave, testul va fi pozitiv in 95% din cazuri, adica in 95 de persoane. Comparativ cu persoanele sanatoase care sunt in numar mai mare, sansa ca persoana sa aiba boala este de 10%, ceea ce inseamna 990 de persoane, mai mult decat in cazul persoanelor bolnave. Totalul persoanlelor care ar avea un test pozitiv, indiferent daca au sau nu boala este de $990 + 95 = 1085$. Din cauza imbalantei dintre persoanele sanatoase si cele care au intr-adevar boala, doar 8.75% din cazurile pozitive sunt adevarate cazuri de boala."
   ]
  },
  {
   "cell_type": "markdown",
   "metadata": {},
   "source": [
    "##### b)"
   ]
  },
  {
   "cell_type": "markdown",
   "metadata": {},
   "source": [
    "We want to determine the value of $P(Test = Negativ|\\neg B)$, but first we have to determine $P(Test = Pozitiv| \\neg B)$.\n",
    "\n",
    "We denote $P(Test = Pozitiv| \\neg B) = x$.\n",
    "\n",
    "\n",
    "$P(B|Test = Pozitiv) \\geq 0.5$\n",
    "\n",
    "$\\frac{0.95 \\cdot 0.01}{0.95 \\cdot 0.01 + x \\cdot 0.99} \\geq 0.5$\n",
    "\n",
    "$0.0095 \\geq 0.5 \\cdot (0.0095 + x \\cdot 0.99)$\n",
    "\n",
    "$0.0095 \\geq 0.00475 + 0.5 \\cdot x \\cdot 0.99$\n",
    "\n",
    "$0.0095 \\geq 0.00475 + 0.495 \\cdot x$\n",
    "\n",
    "$0.00475 + 0.495 \\cdot x \\leq 0.0095$\n",
    "\n",
    "$0.495 \\cdot x \\leq 0.0095 - 0.00475$\n",
    "\n",
    "$0.495 \\cdot x \\leq 0.00475$\n",
    "\n",
    "$x \\leq \\frac{0.00475}{0.495}$\n",
    "\n",
    "$x \\leq 9.5959$\n",
    "\n",
    "$P(Test = Pozitiv| \\neg B) \\leq 9.5959$\n",
    "\n",
    "$P(Test = Pozitiv| \\neg B) = 1 - P(Test = Negativ| \\neg B)$\n",
    "\n",
    "$1 - P(Test = Negativ| \\neg B) \\leq 9.5959$\n",
    "\n",
    "$- P(Test = Negativ| \\neg B) \\leq 9.5959 - 1 $\n",
    "\n",
    "$- P(Test = Negativ| \\neg B) \\leq -0.9904$\n",
    "\n",
    ">$P(Test = Negativ| \\neg B) \\geq 0.9904$"
   ]
  },
  {
   "cell_type": "markdown",
   "metadata": {},
   "source": [
    "Pentru ca probabilitatea ca o persoană să fie bolnavă, având un test pozitiv, să fie de cel puțin 50%, specificitatea testului trebuie să fie de cel puțin 99.04%."
   ]
  },
  {
   "cell_type": "markdown",
   "metadata": {},
   "source": [
    "##### Exercise 2"
   ]
  },
  {
   "cell_type": "markdown",
   "metadata": {},
   "source": [
    "a)"
   ]
  },
  {
   "cell_type": "code",
   "execution_count": 15,
   "metadata": {},
   "outputs": [
    {
     "name": "stdout",
     "output_type": "stream",
     "text": [
      "Numarul de clienti pe ora este: 24\n"
     ]
    }
   ],
   "source": [
    "import numpy as np\n",
    "from scipy.stats import poisson, expon\n",
    "\n",
    "# parametrii\n",
    "lambda_clients = 20  # numărul mediu de clienți pe oră\n",
    "mean_order_time = 2  # media timpului de plasare și plată a unei comenzi (minute)\n",
    "target_time = 15  # timpul țintă pentru a servi toți clienții (minute)\n",
    "confidence_level = 0.95  # probabilitatea dorită\n",
    "\n",
    "# simulăm numărul de clienți care intră într-o oră folosind distribuția Poisson\n",
    "num_clients = poisson.rvs(lambda_clients)\n",
    "print('Numarul de clienti pe ora este:', num_clients)"
   ]
  },
  {
   "cell_type": "markdown",
   "metadata": {},
   "source": [
    "b) Determinarea lui α pentru a putea servi toți clienții într-un timp de 15 minute. Vom folosi distribuția exponențială și cerința de probabilitate\n"
   ]
  },
  {
   "cell_type": "code",
   "execution_count": 16,
   "metadata": {},
   "outputs": [
    {
     "name": "stdout",
     "output_type": "stream",
     "text": [
      "Valoarea maximă pentru alfa astfel încât să putem servi toți clienții în mai puțin de 15 minute cu o probabilitate de 95.0% este aproximativ 0.50 minute.\n"
     ]
    }
   ],
   "source": [
    "alpha_values = np.linspace(0.5, 5, 100)  # încercăm diferite valori pentru alfa între 0.5 și 5 minute\n",
    "alpha_max = None\n",
    "\n",
    "for alpha in alpha_values:\n",
    "    # Timpul total de servire pentru toți clienții\n",
    "    total_serving_time = expon.rvs(scale=alpha, size=num_clients)\n",
    "    \n",
    "    # Calculăm probabilitatea ca toți clienții să fie serviți în mai puțin de target_time\n",
    "    prob = np.mean(total_serving_time < target_time)\n",
    "    \n",
    "    if prob >= confidence_level:\n",
    "        alpha_max = alpha\n",
    "        break\n",
    "\n",
    "print(f\"Valoarea maximă pentru alfa astfel încât să putem servi toți clienții în mai puțin de {target_time} minute cu o probabilitate de {confidence_level*100}% este aproximativ {alpha_max:.2f} minute.\")"
   ]
  },
  {
   "cell_type": "markdown",
   "metadata": {},
   "source": [
    "c) Calculam timpul mediu de așteptare pentru a fi servit un client"
   ]
  },
  {
   "cell_type": "code",
   "execution_count": 17,
   "metadata": {},
   "outputs": [
    {
     "name": "stdout",
     "output_type": "stream",
     "text": [
      "Timpul mediu de așteptare pentru a fi servit un client este aproximativ 2.50 minute.\n"
     ]
    }
   ],
   "source": [
    "average_waiting_time = mean_order_time + alpha_max\n",
    "print(f\"Timpul mediu de așteptare pentru a fi servit un client este aproximativ {average_waiting_time:.2f} minute.\")"
   ]
  }
 ],
 "metadata": {
  "kernelspec": {
   "display_name": "Python 3",
   "language": "python",
   "name": "python3"
  },
  "language_info": {
   "codemirror_mode": {
    "name": "ipython",
    "version": 3
   },
   "file_extension": ".py",
   "mimetype": "text/x-python",
   "name": "python",
   "nbconvert_exporter": "python",
   "pygments_lexer": "ipython3",
   "version": "3.12.5"
  }
 },
 "nbformat": 4,
 "nbformat_minor": 2
}
