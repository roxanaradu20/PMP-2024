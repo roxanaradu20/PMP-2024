{
 "cells": [
  {
   "cell_type": "markdown",
   "metadata": {},
   "source": [
    "### Exercitiul 1"
   ]
  },
  {
   "cell_type": "markdown",
   "metadata": {},
   "source": [
    "$\\text{I}$. Se stie ca A, B si C sunt variabile aleatoare discrete, iar $A \\perp C \\mid B$. Mai avem, de asemenea doua functii pozitive $\\phi_{A,B}, \\phi_{B, C}$ si o constanta de normalizare k > 0. Avem de demonstrat ca $P(A = x_A, B = x_B, C = x_c) = \\frac{1}{k} \\cdot \\phi_{A,B}(x_A, x_B) \\cdot \\phi_{B, C}(x_B, x_C), \\forall x_A, x_B, x_C.$\n",
    "\n",
    "Din $A \\perp C \\mid B \\Rightarrow P(A, C | B) = \\frac{P(A, C, B)}{P(B)}$\n",
    "\n",
    "Cu alte cuvinte, $P(A = x_A, C = x_C| B = x_B) = \\frac{P(A = x_A, C = x_C, B = x_B)}{P(B = x_B)}$\n",
    "\n",
    "$\\Rightarrow P(A = x_A, B = x_B, C = x_c) = P(A = x_A, C = x_C| B = x_B) \\cdot P(B = x_B)$\n",
    "\n",
    "$= P(A = x_A| B = x_B) \\cdot P(C = x_C| B = x_B) \\cdot P(B = x_B)$\n",
    "\n",
    "$= P(B = x_B) \\cdot P(A = x_A| B = x_B) \\cdot P(C = x_C|B = x_B)$\n",
    "\n",
    "$= \\frac{1}{k} \\cdot \\phi_{A,B}(x_A, x_B) \\cdot \\phi_{B, C}, \\forall x_A, x_B, x_C $"
   ]
  },
  {
   "cell_type": "markdown",
   "metadata": {},
   "source": [
    "$\\text{II}$. Avem A, B si C variabile aleatoare discrete, doua functii pozitive $\\phi_{A,B}, \\phi_{B, C}$ si o constanta de normalizare k > 0. Stim, de asemnea, ca $P(A = x_A, B = x_B, C = x_c) = \\frac{1}{k} \\cdot \\phi_{A,B}(x_A, x_B) \\cdot \\phi_{B, C}(x_B, x_C), \\forall x_A, x_B, x_C.$ Avem de demonstrat ca  $A \\perp C \\mid B$.\n",
    "\n",
    ">$P(A = x_A, C = x_C| B = x_B) = \\frac{P(A = x_A, B = x_B, C = x_c)}{P(B = x_B)}$\n",
    "\n",
    "$\\Rightarrow P(A = x_A, B = x_B, C = x_c) = P(A = x_A, C = x_C| B = x_B) \\cdot P(B = x_B)$\n",
    "\n",
    ">$P(A = x_A, B = x_B, C = x_c) = \\frac{1}{k} \\cdot \\phi_{A,B}(x_A, x_B) \\cdot \\phi_{B, C}(x_B, x_C)$\n",
    "\n",
    "$\\Rightarrow \\frac{1}{k} \\cdot \\phi_{A,B}(x_A, x_B) \\cdot \\phi_{B, C}(x_B, x_C) =  P(A = x_A, C = x_C| B = x_B) \\cdot P(B = x_B)$\n",
    "\n",
    ">Deoarece $\\phi_{A,B}(x_A, x_B) > 0 \\Rightarrow \\phi_{A,B}(x_A, x_B) = P(A = x_A|B = x_B)$\n",
    "\n",
    ">De asemenea, $\\phi_{B, C}(x_B, x_C) > 0 \\Rightarrow \\phi_{B, C}(x_B, x_C) = P(C = x_C|B = x_B)$\n",
    "\n",
    "$\\frac{1}{k} \\cdot P(A = x_A|B = x_B) \\cdot P(C = x_c|B = x_B) = P(A = x_A, C = x_C| B = x_B) \\cdot P(B = x_B)$\n",
    "\n",
    ">$P(B = x_B) = \\frac{1}{k}$\n",
    "\n",
    "$\\Rightarrow P(B = x_B) \\cdot P(A = x_A|B = x_B) \\cdot P(C = x_c|B = x_B) = P(B = x_B) \\cdot P(A = x_A, C = x_C| B = x_B)$\n",
    "\n",
    "$\\Rightarrow P(A = x_A|B = x_B) \\cdot P(C = x_c|B = x_B) = P(A = x_A, C = x_C| B = x_B)$\n",
    "\n",
    "> Se vede ca produsul $P(A = x_A, C = x_C | B = x_B)$ se descompune in produsul de probabilitati: $P(A = x_A|B = x_B) \\cdot P(C = x_c|B = x_B)$. Acest lucru arata ca A si C sunt independente conditionat de B, deci $A \\perp C \\mid B$."
   ]
  },
  {
   "cell_type": "markdown",
   "metadata": {},
   "source": [
    "### Exercitiul 2"
   ]
  },
  {
   "cell_type": "code",
   "execution_count": 48,
   "metadata": {},
   "outputs": [
    {
     "name": "stdout",
     "output_type": "stream",
     "text": [
      "Rezultatul MAP (cele mai probabile stări la fiecare stație meteo):\n",
      "S1: Soare\n",
      "S2: Soare\n",
      "S3: Soare\n"
     ]
    }
   ],
   "source": [
    "# Importăm librăriile necesare\n",
    "from pgmpy.models import MarkovNetwork\n",
    "from pgmpy.factors.discrete import DiscreteFactor\n",
    "from pgmpy.inference import BeliefPropagation\n",
    "\n",
    "# definim reteaua Markoviana\n",
    "model = MarkovNetwork()\n",
    "\n",
    "# definim nodurile pentru fiecare statie meteo (de exemplu, S1, S2, S3)\n",
    "stations = ['S1', 'S2', 'S3'] \n",
    "for station in stations:\n",
    "    model.add_node(station)\n",
    "\n",
    "# definim muchiile (relatiile) intre statiile adiacente\n",
    "# de exemplu, S1 este conectată cu S2 si S3 (adica sunt vecine)\n",
    "edges = [('S1', 'S2'), ('S2', 'S3')]\n",
    "for edge in edges:\n",
    "    model.add_edge(*edge)\n",
    "\n",
    "# definim matricea potentiala pentru fiecare pereche de statii vecine\n",
    "# matricea este aceeasi pentru toate relatiile dintre statii\n",
    "potential_matrix = [\n",
    "    [0.7, 0.2, 0.1],  \n",
    "    [0.2, 0.6, 0.2],  \n",
    "    [0.1, 0.2, 0.7] \n",
    "]\n",
    "\n",
    "# adaugam factorii de potential (de tip DiscreteFactor) pentru fiecare pereche de statii\n",
    "states = ['Soare', 'Ploaie', 'Nori']\n",
    "for edge in edges:\n",
    "    factor = DiscreteFactor(variables=[edge[0], edge[1]], cardinality=[3, 3], values=potential_matrix)\n",
    "    model.add_factors(factor)\n",
    "\n",
    "# definim probabilitatile initiale pentru fiecare statie meteo\n",
    "initial_probabilities = {\n",
    "    'S1': [0.5, 0.3, 0.2],  # Probabilitatile pentru Soare, Ploaie, Nori la S1\n",
    "    'S2': [0.6, 0.2, 0.2],  # Probabilitatile pentru S2\n",
    "    'S3': [0.4, 0.4, 0.2]   # Probabilitatile pentru S3\n",
    "}\n",
    "\n",
    "# adaugam probabilitatile initiale ca factori\n",
    "for station, prob in initial_probabilities.items():\n",
    "    factor = DiscreteFactor(variables=[station], cardinality=[3], values=prob)\n",
    "    model.add_factors(factor)\n",
    "\n",
    "# verificam daca modelul este corect definit\n",
    "model.check_model()\n",
    "\n",
    "# facem inferenta folosind Belief Propagation și MAP\n",
    "bp = BeliefPropagation(model)\n",
    "\n",
    "# interogam MAP (Maximum A Posteriori) pentru a prezice starea vremii la fiecare stație\n",
    "map_result = bp.map_query(variables=stations)\n",
    "\n",
    "# fisam rezultatele MAP\n",
    "print(\"Rezultatul MAP (cele mai probabile stări la fiecare stație meteo):\")\n",
    "for station, state in map_result.items():\n",
    "    state_name = states[state]  # Convertim indexul starii în nume\n",
    "    print(f\"{station}: {state_name}\")\n"
   ]
  },
  {
   "cell_type": "markdown",
   "metadata": {},
   "source": [
    "### Exercitiul 3"
   ]
  },
  {
   "cell_type": "markdown",
   "metadata": {},
   "source": [
    "##### a)"
   ]
  },
  {
   "cell_type": "code",
   "execution_count": 49,
   "metadata": {},
   "outputs": [
    {
     "name": "stdout",
     "output_type": "stream",
     "text": [
      "Imaginea originala este:\n",
      "0 154 69 63 228 \n",
      "95 160 15 202 139 \n",
      "33 115 26 175 250 \n",
      "224 12 188 155 132 \n",
      "68 133 93 77 178 \n"
     ]
    }
   ],
   "source": [
    "import random \n",
    "import numpy as np\n",
    "\n",
    "def print_matrix(matrix):\n",
    "    for i in range(len(matrix)):\n",
    "        for j in range(len(matrix)):\n",
    "            print(matrix[i][j], end = ' ')\n",
    "        print()\n",
    "\n",
    "# crearea matricei si degerarea aleatoare a valorilor\n",
    "original_image = []\n",
    "for i in range(5):\n",
    "    line = []\n",
    "    for j in range(5):\n",
    "        line.append(random.randint(0,255))\n",
    "    original_image.append(line)\n",
    "\n",
    "# printarea matricei\n",
    "print(\"Imaginea originala este:\")\n",
    "print_matrix(original_image)"
   ]
  },
  {
   "cell_type": "markdown",
   "metadata": {},
   "source": [
    "##### b)"
   ]
  },
  {
   "cell_type": "code",
   "execution_count": 50,
   "metadata": {},
   "outputs": [
    {
     "name": "stdout",
     "output_type": "stream",
     "text": [
      "Imaginea modificata este: \n",
      "0 154 69 63 228 \n",
      "95 160 15 206 139 \n",
      "33 115 26 175 250 \n",
      "224 12 188 155 230 \n",
      "68 133 93 77 178 \n"
     ]
    }
   ],
   "source": [
    "# determinam cat inseamna 10% din totatul pixelilor\n",
    "edited_image = original_image.copy()\n",
    "num_of_pixels = (len(edited_image) * len(edited_image[0]))//10\n",
    "\n",
    "for _ in range(num_of_pixels):\n",
    "    # alegem aleator o locatie aleatoare din matrice, adica o pereche (i, j) de indici\n",
    "    i = random.randint(0, len(edited_image) - 1)\n",
    "    j = random.randint(0, len(edited_image[0]) - 1)\n",
    "    \n",
    "    # modifical pizelul de pe pozitia aleasa aleatoriu\n",
    "    edited_image[i][j] = random.randint(0, 255)\n",
    "\n",
    "print('Imaginea modificata este: ')\n",
    "print_matrix(edited_image)"
   ]
  },
  {
   "cell_type": "markdown",
   "metadata": {},
   "source": [
    "##### c)"
   ]
  },
  {
   "cell_type": "code",
   "execution_count": 53,
   "metadata": {},
   "outputs": [],
   "source": [
    "from pgmpy.models import MarkovNetwork\n",
    "from pgmpy.factors.discrete import DiscreteFactor\n",
    "from pgmpy.inference import BeliefPropagation\n",
    "\n",
    "# definim modelul MRF\n",
    "mrf = MarkovNetwork()\n",
    "\n",
    "# adaugam nodurile, corespunzatoare pixelilor din imagine\n",
    "nodes = []\n",
    "for i in range(5):\n",
    "    for j in range(5):\n",
    "        nodes.append((i, j))\n",
    "mrf.add_nodes_from(nodes)\n",
    "\n",
    "# adugam muchiile pentru vecinii direct(N, S, E, V)\n",
    "edges = []\n",
    "for i in range(5):\n",
    "    for j in range(5):\n",
    "        if i > 0: # vecinul de nord\n",
    "            edges.append(((i, j), (i - 1, j)))\n",
    "        if i < 4: # vecinul de sud\n",
    "            edges.append(((i, j), (i + 1, j)))\n",
    "        if j > 0: # vecinul de vest\n",
    "            edges.append(((i, j), (i, j - 1)))\n",
    "        if j < 4: # vecinul de est\n",
    "            edges.append(((i, j), (i, j + 1)))\n",
    "mrf.add_edges_from(edges)\n",
    "\n",
    "lambda_value = 1.0  # Factorul de regularizare\n",
    "\n",
    "\n",
    "\n",
    "# construim componenta care penalizeaza discrepantele dintre variabilele observate si cele latente\n",
    "for node in nodes:\n",
    "    yi = edited_image[node[0]][node[1]] # pixelul zgomotos\n",
    "    values = []\n",
    "    # parcurgem toate valorile posibile pentru un pixel si calculam penalizarea pentru acesta\n",
    "    for xi in range(256):  # presupunem ca pixelii au valori între 0 si 255\n",
    "        penalty = lambda_value * ((xi - yi) ** 2)\n",
    "        values.append(np.exp(-penalty)) # transformam penalitatea intr-o probabilitate\n",
    "        # Pentru o penalizare mare, vom avea o probabilitate mica\n",
    "    factor = DiscreteFactor([node], [256], values) # node = pixelul curent, 256 se refera la valorile posibile(intre 0 si 255), values = lista de probabilitati\n",
    "    mrf.add_factors(factor)\n",
    "\n",
    "# cream componenta care penalizeaza discrepantele intre pixelii vecini\n",
    "for edge in edges: #edge((i, j), (l, k))\n",
    "    node_i, node_j = edge # node_i primeste coordonate (i, j), iar node_j primeste (l, k)\n",
    "    x_i = edited_image[node_i[0]][node_i[1]]\n",
    "    x_j = edited_image[node_j[0]][node_j[1]]\n",
    "    values = []\n",
    "    # parcurgem toate perechile de muchii posibile(adica perechile de pixeli vecini)\n",
    "    for xi in range(256):\n",
    "        for xj in range(256):\n",
    "            penalty = (xi - xj) ** 2\n",
    "            values.append(np.exp(-penalty))\n",
    "    factor = DiscreteFactor([node_i, node_j], [256, 256], values)\n",
    "    mrf.add_factors(factor)"
   ]
  },
  {
   "cell_type": "markdown",
   "metadata": {},
   "source": [
    "##### d)"
   ]
  },
  {
   "cell_type": "code",
   "execution_count": 54,
   "metadata": {},
   "outputs": [
    {
     "name": "stderr",
     "output_type": "stream",
     "text": [
      "C:\\Users\\Admin\\AppData\\Roaming\\Python\\Python312\\site-packages\\pgmpy\\models\\MarkovNetwork.py:474: RuntimeWarning: divide by zero encountered in scalar divide\n",
      "  S_by_C = {key: S[key] / C[key] for key in S}\n",
      "C:\\Users\\Admin\\AppData\\Roaming\\Python\\Python312\\site-packages\\pgmpy\\models\\MarkovNetwork.py:474: RuntimeWarning: invalid value encountered in scalar divide\n",
      "  S_by_C = {key: S[key] / C[key] for key in S}\n"
     ]
    },
    {
     "ename": "ValueError",
     "evalue": "cannot reshape array of size 0 into shape (256,256,256,256,256)",
     "output_type": "error",
     "traceback": [
      "\u001b[1;31m---------------------------------------------------------------------------\u001b[0m",
      "\u001b[1;31mValueError\u001b[0m                                Traceback (most recent call last)",
      "Cell \u001b[1;32mIn[54], line 2\u001b[0m\n\u001b[0;32m      1\u001b[0m \u001b[38;5;66;03m# folosirea metodei de inferenta pentru calculul distributiilor probabilistice\u001b[39;00m\n\u001b[1;32m----> 2\u001b[0m bp \u001b[38;5;241m=\u001b[39m \u001b[43mBeliefPropagation\u001b[49m\u001b[43m(\u001b[49m\u001b[43mmrf\u001b[49m\u001b[43m)\u001b[49m\n\u001b[0;32m      4\u001b[0m \u001b[38;5;66;03m# calcularea solutiei MAP\u001b[39;00m\n\u001b[0;32m      5\u001b[0m \u001b[38;5;66;03m# map_estimate este un dictionar in care cheia este coordonata unui pixel, iar valoarea cheii este valoarea estimata pixelului\u001b[39;00m\n\u001b[0;32m      6\u001b[0m map_estimate \u001b[38;5;241m=\u001b[39m bp\u001b[38;5;241m.\u001b[39mmap_query() \n",
      "File \u001b[1;32m~\\AppData\\Roaming\\Python\\Python312\\site-packages\\pgmpy\\inference\\ExactInference.py:700\u001b[0m, in \u001b[0;36mBeliefPropagation.__init__\u001b[1;34m(self, model)\u001b[0m\n\u001b[0;32m    697\u001b[0m \u001b[38;5;28msuper\u001b[39m(BeliefPropagation, \u001b[38;5;28mself\u001b[39m)\u001b[38;5;241m.\u001b[39m\u001b[38;5;21m__init__\u001b[39m(model)\n\u001b[0;32m    699\u001b[0m \u001b[38;5;28;01mif\u001b[39;00m \u001b[38;5;129;01mnot\u001b[39;00m \u001b[38;5;28misinstance\u001b[39m(model, JunctionTree):\n\u001b[1;32m--> 700\u001b[0m     \u001b[38;5;28mself\u001b[39m\u001b[38;5;241m.\u001b[39mjunction_tree \u001b[38;5;241m=\u001b[39m \u001b[43mmodel\u001b[49m\u001b[38;5;241;43m.\u001b[39;49m\u001b[43mto_junction_tree\u001b[49m\u001b[43m(\u001b[49m\u001b[43m)\u001b[49m\n\u001b[0;32m    701\u001b[0m \u001b[38;5;28;01melse\u001b[39;00m:\n\u001b[0;32m    702\u001b[0m     \u001b[38;5;28mself\u001b[39m\u001b[38;5;241m.\u001b[39mjunction_tree \u001b[38;5;241m=\u001b[39m copy\u001b[38;5;241m.\u001b[39mdeepcopy(model)\n",
      "File \u001b[1;32m~\\AppData\\Roaming\\Python\\Python312\\site-packages\\pgmpy\\models\\MarkovNetwork.py:573\u001b[0m, in \u001b[0;36mMarkovNetwork.to_junction_tree\u001b[1;34m(self)\u001b[0m\n\u001b[0;32m    571\u001b[0m \u001b[38;5;66;03m# To compute clique potential, initially set it as unity factor\u001b[39;00m\n\u001b[0;32m    572\u001b[0m var_card \u001b[38;5;241m=\u001b[39m [\u001b[38;5;28mself\u001b[39m\u001b[38;5;241m.\u001b[39mget_cardinality()[x] \u001b[38;5;28;01mfor\u001b[39;00m x \u001b[38;5;129;01min\u001b[39;00m node]\n\u001b[1;32m--> 573\u001b[0m clique_potential \u001b[38;5;241m=\u001b[39m \u001b[43mDiscreteFactor\u001b[49m\u001b[43m(\u001b[49m\n\u001b[0;32m    574\u001b[0m \u001b[43m    \u001b[49m\u001b[43mnode\u001b[49m\u001b[43m,\u001b[49m\u001b[43m \u001b[49m\u001b[43mvar_card\u001b[49m\u001b[43m,\u001b[49m\u001b[43m \u001b[49m\u001b[43mnp\u001b[49m\u001b[38;5;241;43m.\u001b[39;49m\u001b[43mones\u001b[49m\u001b[43m(\u001b[49m\u001b[43mnp\u001b[49m\u001b[38;5;241;43m.\u001b[39;49m\u001b[43mprod\u001b[49m\u001b[43m(\u001b[49m\u001b[43mvar_card\u001b[49m\u001b[43m)\u001b[49m\u001b[43m)\u001b[49m\n\u001b[0;32m    575\u001b[0m \u001b[43m\u001b[49m\u001b[43m)\u001b[49m\n\u001b[0;32m    576\u001b[0m \u001b[38;5;66;03m# multiply it with the factors associated with the variables present\u001b[39;00m\n\u001b[0;32m    577\u001b[0m \u001b[38;5;66;03m# in the clique (or node)\u001b[39;00m\n\u001b[0;32m    578\u001b[0m \u001b[38;5;66;03m# Checking if there's clique_factors, to handle the case when clique_factors\u001b[39;00m\n\u001b[0;32m    579\u001b[0m \u001b[38;5;66;03m# is empty, otherwise factor_product with throw an error [ref #889]\u001b[39;00m\n\u001b[0;32m    580\u001b[0m \u001b[38;5;28;01mif\u001b[39;00m clique_factors:\n",
      "File \u001b[1;32m~\\AppData\\Roaming\\Python\\Python312\\site-packages\\pgmpy\\factors\\discrete\\DiscreteFactor.py:112\u001b[0m, in \u001b[0;36mDiscreteFactor.__init__\u001b[1;34m(self, variables, cardinality, values, state_names)\u001b[0m\n\u001b[0;32m    110\u001b[0m \u001b[38;5;28mself\u001b[39m\u001b[38;5;241m.\u001b[39mvariables \u001b[38;5;241m=\u001b[39m \u001b[38;5;28mlist\u001b[39m(variables)\n\u001b[0;32m    111\u001b[0m \u001b[38;5;28mself\u001b[39m\u001b[38;5;241m.\u001b[39mcardinality \u001b[38;5;241m=\u001b[39m np\u001b[38;5;241m.\u001b[39marray(cardinality, dtype\u001b[38;5;241m=\u001b[39m\u001b[38;5;28mint\u001b[39m)\n\u001b[1;32m--> 112\u001b[0m \u001b[38;5;28mself\u001b[39m\u001b[38;5;241m.\u001b[39mvalues \u001b[38;5;241m=\u001b[39m \u001b[43mvalues\u001b[49m\u001b[38;5;241;43m.\u001b[39;49m\u001b[43mreshape\u001b[49m\u001b[43m(\u001b[49m\u001b[38;5;28;43mtuple\u001b[39;49m\u001b[43m(\u001b[49m\u001b[38;5;28;43mself\u001b[39;49m\u001b[38;5;241;43m.\u001b[39;49m\u001b[43mcardinality\u001b[49m\u001b[43m)\u001b[49m\u001b[43m)\u001b[49m\n\u001b[0;32m    114\u001b[0m \u001b[38;5;66;03m# Set the state names\u001b[39;00m\n\u001b[0;32m    115\u001b[0m \u001b[38;5;28msuper\u001b[39m(DiscreteFactor, \u001b[38;5;28mself\u001b[39m)\u001b[38;5;241m.\u001b[39mstore_state_names(\n\u001b[0;32m    116\u001b[0m     variables, cardinality, state_names\n\u001b[0;32m    117\u001b[0m )\n",
      "\u001b[1;31mValueError\u001b[0m: cannot reshape array of size 0 into shape (256,256,256,256,256)"
     ]
    }
   ],
   "source": [
    "# folosirea metodei de inferenta pentru calculul distributiilor probabilistice\n",
    "bp = BeliefPropagation(mrf)\n",
    "\n",
    "# calcularea solutiei MAP\n",
    "# map_estimate este un dictionar in care cheia este coordonata unui pixel, iar valoarea cheii este valoarea estimata pixelului\n",
    "map_estimate = bp.map_query() \n",
    "\n",
    "\n",
    "denoised_image = np.zeros((5, 5), dtype=int) # matrice care va contine poza \"denoised\"\n",
    "for (i, j), value in map_estimate.items():\n",
    "    denoised_image[i, j] = value\n",
    "\n",
    "print(\"Denoised Image:\\n\", denoised_image)"
   ]
  }
 ],
 "metadata": {
  "kernelspec": {
   "display_name": "Python 3",
   "language": "python",
   "name": "python3"
  },
  "language_info": {
   "codemirror_mode": {
    "name": "ipython",
    "version": 3
   },
   "file_extension": ".py",
   "mimetype": "text/x-python",
   "name": "python",
   "nbconvert_exporter": "python",
   "pygments_lexer": "ipython3",
   "version": "3.12.5"
  }
 },
 "nbformat": 4,
 "nbformat_minor": 2
}
